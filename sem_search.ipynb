{
 "cells": [
  {
   "cell_type": "markdown",
   "metadata": {},
   "source": [
    "## Semantic text search using embeddings\n",
    "\n",
    "We can search through all our reviews semantically in a very efficient manner and at very low cost, by simply embedding our search query, and then finding the most similar reviews. The dataset is created in the [Obtain_dataset Notebook](Obtain_dataset.ipynb)."
   ]
  },
  {
   "cell_type": "code",
   "execution_count": 21,
   "metadata": {},
   "outputs": [
    {
     "name": "stdout",
     "output_type": "stream",
     "text": [
      "Collecting scikit-learn\n",
      "  Downloading scikit_learn-1.2.1-cp39-cp39-macosx_12_0_arm64.whl (8.4 MB)\n",
      "\u001b[2K     \u001b[90m━━━━━━━━━━━━━━━━━━━━━━━━━━━━━━━━━━━━━━━━\u001b[0m \u001b[32m8.4/8.4 MB\u001b[0m \u001b[31m5.0 MB/s\u001b[0m eta \u001b[36m0:00:00\u001b[0m00:01\u001b[0m00:01\u001b[0mm\n",
      "\u001b[?25hRequirement already satisfied: scipy>=1.3.2 in ./.venv/lib/python3.9/site-packages (from scikit-learn) (1.10.0)\n",
      "Requirement already satisfied: numpy>=1.17.3 in ./.venv/lib/python3.9/site-packages (from scikit-learn) (1.24.1)\n",
      "Collecting threadpoolctl>=2.0.0\n",
      "  Downloading threadpoolctl-3.1.0-py3-none-any.whl (14 kB)\n",
      "Collecting joblib>=1.1.1\n",
      "  Downloading joblib-1.2.0-py3-none-any.whl (297 kB)\n",
      "\u001b[2K     \u001b[90m━━━━━━━━━━━━━━━━━━━━━━━━━━━━━━━━━━━━━━\u001b[0m \u001b[32m298.0/298.0 kB\u001b[0m \u001b[31m13.5 MB/s\u001b[0m eta \u001b[36m0:00:00\u001b[0m\n",
      "\u001b[?25hInstalling collected packages: threadpoolctl, joblib, scikit-learn\n",
      "Successfully installed joblib-1.2.0 scikit-learn-1.2.1 threadpoolctl-3.1.0\n"
     ]
    }
   ],
   "source": [
    "!pip install scikit-learn"
   ]
  },
  {
   "cell_type": "code",
   "execution_count": 3,
   "metadata": {},
   "outputs": [],
   "source": [
    "import pandas as pd\n",
    "import numpy as np\n",
    "\n",
    "datafile_path = \"data/embeddings.csv\"\n",
    "\n",
    "df = pd.read_csv(datafile_path)\n",
    "df[\"embeddings\"] = df.embeddings.apply(eval).apply(np.array)"
   ]
  },
  {
   "cell_type": "markdown",
   "metadata": {},
   "source": [
    "Remember to use the documents embedding engine for documents (in this case reviews), and query embedding engine for queries. Note that here we just compare the cosine similarity of the embeddings of the query and the documents, and show top_n best matches."
   ]
  },
  {
   "cell_type": "code",
   "execution_count": 8,
   "metadata": {},
   "outputs": [
    {
     "name": "stdout",
     "output_type": "stream",
     "text": [
      "Unnamed: 0\n",
      "\n",
      "text\n",
      "\n",
      "embeddings\n",
      "\n",
      "similarity\n",
      "\n"
     ]
    }
   ],
   "source": [
    "from openai.embeddings_utils import get_embedding, cosine_similarity\n",
    "\n",
    "# search through the reviews for a specific product\n",
    "def search(df, query, n):\n",
    "    query_embedding = get_embedding(\n",
    "        query,\n",
    "        engine=\"text-embedding-ada-002\"\n",
    "    )\n",
    "    df[\"similarity\"] = df.embeddings.apply(lambda x: cosine_similarity(x, query_embedding))\n",
    "\n",
    "    results = (\n",
    "        df.sort_values(\"similarity\", ascending=False)\n",
    "        .head(n)\n",
    "    )\n",
    "\n",
    "    return results\n",
    "\n",
    "\n",
    "results = search(df, \"who can view a variable marked private in a solidity contract\", n=3)\n"
   ]
  },
  {
   "cell_type": "code",
   "execution_count": 14,
   "metadata": {},
   "outputs": [
    {
     "name": "stdout",
     "output_type": "stream",
     "text": [
      "not in derived contracts\n",
      "\n",
      "\n",
      "Both functions and state variables can be made public or private\n",
      "\n",
      "Here's a function for updating a state variable on a contract:\n",
      "\n",
      "solidity\n",
      "// Solidity example\n",
      "function update_name(string value) public {\n",
      "    dapp_name = value;\n",
      "}\n",
      "\n",
      "\n",
      "\n",
      "The parameter value of type string is passed into the function: update_name\n",
      "It's declared public, meaning anyone can access it\n",
      "It's not declared view, so it can modify the contract state\n",
      "\n",
      "\n",
      "View functions {#view-functions}\n",
      "\n",
      "These functions promise not to modify the state of the contract's data. Common examples are \"getter\" functions – you might use this to receive a user's balance for example.\n",
      "\n",
      "solidity\n",
      "// Solidity example\n",
      "function balanceOf(address _owner) public view\n",
      "\n",
      "anyone can access it\n",
      "It's not declared view, so it can modify the contract state\n",
      "\n",
      "\n",
      "View functions {#view-functions}\n",
      "\n",
      "These functions promise not to modify the state of the contract's data. Common examples are \"getter\" functions – you might use this to receive a user's balance for example.\n",
      "\n",
      "solidity\n",
      "// Solidity example\n",
      "function balanceOf(address _owner) public view returns (uint256 _balance) {\n",
      "    return ownerPizzaCount[_owner];\n",
      "}\n",
      "\n",
      "\n",
      "```python\n",
      "dappName: public(string)\n",
      "\n",
      "@view\n",
      "@public\n",
      "def readName() -> string:\n",
      "  return dappName\n",
      "```\n",
      "\n",
      "What is considered modifying state:\n",
      "\n",
      "\n",
      "Writing to state variables.\n",
      "Emitting events.\n",
      "Creating other contracts.\n",
      "Using selfdestruct.\n",
      "Sending ether via calls.\n",
      "Calling any function not marked view or pure.\n",
      "Using low-level calls.\n",
      "Using inline assembly that contains certain opcodes.\n",
      "\n",
      "\n",
      "Constructor functions {#constructor-functions}\n",
      "\n",
      "constructor functions are only executed once when the\n",
      "\n",
      "can be the owner, be approved for a specific token,\n",
      "or be an operator for all of the owner's tokens.\n",
      "Past events are visible only outside the blockchain. Code running inside the blockchain cannot view them.\n",
      "\n",
      "\n",
      "Now go and implement secure Vyper contracts.\n",
      "\n",
      "\n"
     ]
    }
   ],
   "source": [
    "#iterate through the results and print the text\n",
    "for index, row in results.iterrows():\n",
    "    print(row['text'])\n",
    "    print()"
   ]
  }
 ],
 "metadata": {
  "kernelspec": {
   "display_name": ".venv",
   "language": "python",
   "name": "python3"
  },
  "language_info": {
   "codemirror_mode": {
    "name": "ipython",
    "version": 3
   },
   "file_extension": ".py",
   "mimetype": "text/x-python",
   "name": "python",
   "nbconvert_exporter": "python",
   "pygments_lexer": "ipython3",
   "version": "3.9.6"
  },
  "orig_nbformat": 4,
  "vscode": {
   "interpreter": {
    "hash": "6b9836b3d212eb7a794f200ba4132a32c8ca060461674b71c38ec53ef2676989"
   }
  }
 },
 "nbformat": 4,
 "nbformat_minor": 2
}
